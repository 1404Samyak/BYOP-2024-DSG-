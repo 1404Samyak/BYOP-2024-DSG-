{
 "cells": [
  {
   "cell_type": "code",
   "execution_count": 1,
   "id": "c0e078e3",
   "metadata": {
    "scrolled": false
   },
   "outputs": [
    {
     "name": "stdout",
     "output_type": "stream",
     "text": [
      "                       Title                    Artist            Top Genre\n",
      "0                    Sunrise               Norah Jones      adult standards\n",
      "1                Black Night               Deep Purple           album rock\n",
      "2             Clint Eastwood                  Gorillaz  alternative hip hop\n",
      "3              The Pretender              Foo Fighters    alternative metal\n",
      "4     Waitin' On A Sunny Day         Bruce Springsteen         classic rock\n",
      "...                      ...                       ...                  ...\n",
      "1989        Heartbreak Hotel             Elvis Presley      adult standards\n",
      "1990               Hound Dog             Elvis Presley      adult standards\n",
      "1991         Johnny B. Goode               Chuck Berry           blues rock\n",
      "1992               Take Five  The Dave Brubeck Quartet                bebop\n",
      "1993          Blueberry Hill               Fats Domino      adult standards\n",
      "\n",
      "[1994 rows x 3 columns]\n",
      "Recommendations for Take Five: ['Sunrise', 'Black Night', 'Clint Eastwood', 'The Pretender', \"Waitin' On A Sunny Day\", 'The Road Ahead (Miles Of The Unknown)', 'She Will Be Loved', 'Knights of Cydonia', 'Mr. Brightside', 'Without Me']\n"
     ]
    }
   ],
   "source": [
    "import pandas as pd\n",
    "from sklearn.feature_extraction.text import TfidfVectorizer\n",
    "from sklearn.metrics.pairwise import linear_kernel\n",
    "columns=['Title','Artist','Top Genre']\n",
    "data=pd.read_csv(\"spotify.csv\")\n",
    "df_music=pd.read_csv(\"spotify.csv\",usecols=columns)\n",
    "print(df_music)\n",
    "def recommendation_model(data):\n",
    "     data['content'] = data[['Title', 'Artist', 'Top Genre']].apply(lambda x: ' '.join(map(str, x)), axis=1)\n",
    "     vectorizer = TfidfVectorizer(stop_words=\"english\")\n",
    "     tfidf_matrix = vectorizer.fit_transform(data['content'])\n",
    "     cosine_sim = linear_kernel(tfidf_matrix, tfidf_matrix)\n",
    "     return cosine_sim\n",
    "def get_recommendations(title, data, model):\n",
    "    idx = data[data['Title'] == title].index[0]\n",
    "    sim_scores = list(enumerate(model[idx]))\n",
    "    sim_scores = sorted(sim_scores, key=lambda x: x[1], reverse=True)\n",
    "    recommendations = [data.iloc[i]['Title'] for i, score in sim_scores[1:11]]\n",
    "    return recommendations\n",
    "recommendation_model = recommendation_model(df_music)\n",
    "song = \"Take Five\" #The input song\n",
    "recommendations = get_recommendations(song, df_music, recommendation_model)\n",
    "print(f\"Recommendations for {song}: {recommendations}\")    \n",
    "    "
   ]
  },
  {
   "cell_type": "code",
   "execution_count": null,
   "id": "2cc323b5",
   "metadata": {},
   "outputs": [],
   "source": []
  },
  {
   "cell_type": "code",
   "execution_count": null,
   "id": "418adb4f",
   "metadata": {},
   "outputs": [],
   "source": []
  }
 ],
 "metadata": {
  "kernelspec": {
   "display_name": "Python 3 (ipykernel)",
   "language": "python",
   "name": "python3"
  },
  "language_info": {
   "codemirror_mode": {
    "name": "ipython",
    "version": 3
   },
   "file_extension": ".py",
   "mimetype": "text/x-python",
   "name": "python",
   "nbconvert_exporter": "python",
   "pygments_lexer": "ipython3",
   "version": "3.11.5"
  }
 },
 "nbformat": 4,
 "nbformat_minor": 5
}
